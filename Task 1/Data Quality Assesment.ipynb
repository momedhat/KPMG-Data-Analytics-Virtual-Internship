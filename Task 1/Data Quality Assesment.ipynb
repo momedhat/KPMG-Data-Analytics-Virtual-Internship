{
 "cells": [
  {
   "cell_type": "markdown",
   "id": "43f06c87",
   "metadata": {},
   "source": [
    "# Project of the KPMG AU virtual experience program\n",
    "### Task1 (Data Quality Assesment)\n",
    "\n",
    "\n",
    "\n",
    "# Table of Contents\n",
    "<ul>\n",
    "<li><a href=\"#intro\">Introduction</a></li>\n",
    "<li><a href=\"#wrangling\">Data Wrangling</a></li>\n",
    "<li><a href=\"#ed1\">Exploring CustomerDemographic Dataset</a></li>\n",
    "<li><a href=\"#ed2\">Exploring CustomerAddresses Dataset</a></li>\n",
    "<li><a href=\"#ed3\">Exploring Transactions Dataset</a></li>\n",
    "<li><a href=\"#ed4\">Exploring NewCustomerList Dataset</a></li>\n",
    "</ul>"
   ]
  },
  {
   "cell_type": "markdown",
   "id": "17437f03",
   "metadata": {},
   "source": [
    "<a id='intro'></a>\n",
    "# Introduction\n",
    "\n",
    "Sprocket Central Pty Ltd , a medium size bikes & cycling accessories organisation, has approached Tony Smith (Partner) \n",
    "in KPMG’s Lighthouse & Innovation Team. Sprocket Central Pty Ltd  is keen to learn more about KPMG’s expertise in its Analytics, Information & Modelling team. \n",
    "\n",
    "Smith discusses KPMG’s expertise in this space (you can read more here). In particular, he speaks about how the team can effectively analyse the datasets to help Sprocket Central Pty Ltd grow its business.\n",
    "\n",
    "Primarily, Sprocket Central Pty Ltd needs help with its customer and transactions data. The organisation has a large dataset relating to its customers, but their team is unsure how to effectively analyse it to help optimise its marketing strategy. \n",
    "\n",
    "However, in order to support the analysis, you speak to the Associate Director for some ideas and she advised that “the importance of optimising the quality of customer datasets cannot be underestimated. The better the quality of the dataset, the better chance you will be able to use it drive company growth.”\n",
    "\n",
    "The client provided KPMG with 3 datasets:\n",
    "\n",
    "* Customer Demographic \n",
    "* Customer Addresses\n",
    "* Transactions data in the past 3 months"
   ]
  },
  {
   "cell_type": "markdown",
   "id": "f4df5c58",
   "metadata": {},
   "source": [
    "<a id='wrangling'></a>\n",
    "# Data Wrangling"
   ]
  },
  {
   "cell_type": "code",
   "execution_count": 1,
   "id": "1a2b5e23",
   "metadata": {},
   "outputs": [],
   "source": [
    "# first, import the libraries we need (Pandas)\n",
    "import pandas as pd"
   ]
  },
  {
   "cell_type": "code",
   "execution_count": 2,
   "id": "24b9d68b",
   "metadata": {},
   "outputs": [],
   "source": [
    "# get each sheet sperated\n",
    "CustomerDemographic = pd.read_excel(\"KPMG_dataset.xlsx\", \"CustomerDemographic\")\n",
    "CustomerAddress = pd.read_excel(\"KPMG_dataset.xlsx\", \"CustomerAddress\")\n",
    "Transactions = pd.read_excel(\"KPMG_dataset.xlsx\", \"Transactions\")\n",
    "NewCustomerList = pd.read_excel(\"KPMG_dataset.xlsx\", \"NewCustomerList\")"
   ]
  },
  {
   "cell_type": "markdown",
   "id": "df98b6fb",
   "metadata": {},
   "source": [
    "<a id='ed1'></a>\n",
    "# Exploring CustomerDemographic Dataset"
   ]
  },
  {
   "cell_type": "code",
   "execution_count": 3,
   "id": "f871dc35",
   "metadata": {},
   "outputs": [
    {
     "data": {
      "text/html": [
       "<div>\n",
       "<style scoped>\n",
       "    .dataframe tbody tr th:only-of-type {\n",
       "        vertical-align: middle;\n",
       "    }\n",
       "\n",
       "    .dataframe tbody tr th {\n",
       "        vertical-align: top;\n",
       "    }\n",
       "\n",
       "    .dataframe thead th {\n",
       "        text-align: right;\n",
       "    }\n",
       "</style>\n",
       "<table border=\"1\" class=\"dataframe\">\n",
       "  <thead>\n",
       "    <tr style=\"text-align: right;\">\n",
       "      <th></th>\n",
       "      <th>customer_id</th>\n",
       "      <th>first_name</th>\n",
       "      <th>last_name</th>\n",
       "      <th>gender</th>\n",
       "      <th>past_3_years_bike_related_purchases</th>\n",
       "      <th>DOB</th>\n",
       "      <th>job_title</th>\n",
       "      <th>job_industry_category</th>\n",
       "      <th>wealth_segment</th>\n",
       "      <th>deceased_indicator</th>\n",
       "      <th>default</th>\n",
       "      <th>owns_car</th>\n",
       "      <th>tenure</th>\n",
       "    </tr>\n",
       "  </thead>\n",
       "  <tbody>\n",
       "    <tr>\n",
       "      <th>1</th>\n",
       "      <td>1</td>\n",
       "      <td>Laraine</td>\n",
       "      <td>Medendorp</td>\n",
       "      <td>F</td>\n",
       "      <td>93</td>\n",
       "      <td>1953-10-12 00:00:00</td>\n",
       "      <td>Executive Secretary</td>\n",
       "      <td>Health</td>\n",
       "      <td>Mass Customer</td>\n",
       "      <td>N</td>\n",
       "      <td>\"'</td>\n",
       "      <td>Yes</td>\n",
       "      <td>11</td>\n",
       "    </tr>\n",
       "    <tr>\n",
       "      <th>2</th>\n",
       "      <td>2</td>\n",
       "      <td>Eli</td>\n",
       "      <td>Bockman</td>\n",
       "      <td>Male</td>\n",
       "      <td>81</td>\n",
       "      <td>1980-12-16 00:00:00</td>\n",
       "      <td>Administrative Officer</td>\n",
       "      <td>Financial Services</td>\n",
       "      <td>Mass Customer</td>\n",
       "      <td>N</td>\n",
       "      <td>&lt;script&gt;alert('hi')&lt;/script&gt;</td>\n",
       "      <td>Yes</td>\n",
       "      <td>16</td>\n",
       "    </tr>\n",
       "    <tr>\n",
       "      <th>3</th>\n",
       "      <td>3</td>\n",
       "      <td>Arlin</td>\n",
       "      <td>Dearle</td>\n",
       "      <td>Male</td>\n",
       "      <td>61</td>\n",
       "      <td>1954-01-20 00:00:00</td>\n",
       "      <td>Recruiting Manager</td>\n",
       "      <td>Property</td>\n",
       "      <td>Mass Customer</td>\n",
       "      <td>N</td>\n",
       "      <td>2018-02-01 00:00:00</td>\n",
       "      <td>Yes</td>\n",
       "      <td>15</td>\n",
       "    </tr>\n",
       "    <tr>\n",
       "      <th>4</th>\n",
       "      <td>4</td>\n",
       "      <td>Talbot</td>\n",
       "      <td>NaN</td>\n",
       "      <td>Male</td>\n",
       "      <td>33</td>\n",
       "      <td>1961-10-03 00:00:00</td>\n",
       "      <td>NaN</td>\n",
       "      <td>IT</td>\n",
       "      <td>Mass Customer</td>\n",
       "      <td>N</td>\n",
       "      <td>() { _; } &gt;_[$($())] { touch /tmp/blns.shellsh...</td>\n",
       "      <td>No</td>\n",
       "      <td>7</td>\n",
       "    </tr>\n",
       "    <tr>\n",
       "      <th>5</th>\n",
       "      <td>5</td>\n",
       "      <td>Sheila-kathryn</td>\n",
       "      <td>Calton</td>\n",
       "      <td>Female</td>\n",
       "      <td>56</td>\n",
       "      <td>1977-05-13 00:00:00</td>\n",
       "      <td>Senior Editor</td>\n",
       "      <td>NaN</td>\n",
       "      <td>Affluent Customer</td>\n",
       "      <td>N</td>\n",
       "      <td>NIL</td>\n",
       "      <td>Yes</td>\n",
       "      <td>8</td>\n",
       "    </tr>\n",
       "  </tbody>\n",
       "</table>\n",
       "</div>"
      ],
      "text/plain": [
       "0 customer_id      first_name  last_name  gender  \\\n",
       "1           1         Laraine  Medendorp       F   \n",
       "2           2             Eli    Bockman    Male   \n",
       "3           3           Arlin     Dearle    Male   \n",
       "4           4          Talbot        NaN    Male   \n",
       "5           5  Sheila-kathryn     Calton  Female   \n",
       "\n",
       "0 past_3_years_bike_related_purchases                  DOB  \\\n",
       "1                                  93  1953-10-12 00:00:00   \n",
       "2                                  81  1980-12-16 00:00:00   \n",
       "3                                  61  1954-01-20 00:00:00   \n",
       "4                                  33  1961-10-03 00:00:00   \n",
       "5                                  56  1977-05-13 00:00:00   \n",
       "\n",
       "0               job_title job_industry_category     wealth_segment  \\\n",
       "1     Executive Secretary                Health      Mass Customer   \n",
       "2  Administrative Officer    Financial Services      Mass Customer   \n",
       "3      Recruiting Manager              Property      Mass Customer   \n",
       "4                     NaN                    IT      Mass Customer   \n",
       "5           Senior Editor                   NaN  Affluent Customer   \n",
       "\n",
       "0 deceased_indicator                                            default  \\\n",
       "1                  N                                                 \"'   \n",
       "2                  N                       <script>alert('hi')</script>   \n",
       "3                  N                                2018-02-01 00:00:00   \n",
       "4                  N  () { _; } >_[$($())] { touch /tmp/blns.shellsh...   \n",
       "5                  N                                                NIL   \n",
       "\n",
       "0 owns_car tenure  \n",
       "1      Yes     11  \n",
       "2      Yes     16  \n",
       "3      Yes     15  \n",
       "4       No      7  \n",
       "5      Yes      8  "
      ]
     },
     "execution_count": 3,
     "metadata": {},
     "output_type": "execute_result"
    }
   ],
   "source": [
    "CustomerDemographic.columns = CustomerDemographic.iloc[0]\n",
    "CustomerDemographic = CustomerDemographic[1:]\n",
    "\n",
    "CustomerDemographic.head()"
   ]
  },
  {
   "cell_type": "code",
   "execution_count": 4,
   "id": "0818264a",
   "metadata": {},
   "outputs": [
    {
     "name": "stdout",
     "output_type": "stream",
     "text": [
      "<class 'pandas.core.frame.DataFrame'>\n",
      "RangeIndex: 4000 entries, 1 to 4000\n",
      "Data columns (total 13 columns):\n",
      " #   Column                               Non-Null Count  Dtype \n",
      "---  ------                               --------------  ----- \n",
      " 0   customer_id                          4000 non-null   object\n",
      " 1   first_name                           4000 non-null   object\n",
      " 2   last_name                            3875 non-null   object\n",
      " 3   gender                               4000 non-null   object\n",
      " 4   past_3_years_bike_related_purchases  4000 non-null   object\n",
      " 5   DOB                                  3913 non-null   object\n",
      " 6   job_title                            3494 non-null   object\n",
      " 7   job_industry_category                3344 non-null   object\n",
      " 8   wealth_segment                       4000 non-null   object\n",
      " 9   deceased_indicator                   4000 non-null   object\n",
      " 10  default                              3698 non-null   object\n",
      " 11  owns_car                             4000 non-null   object\n",
      " 12  tenure                               3913 non-null   object\n",
      "dtypes: object(13)\n",
      "memory usage: 406.4+ KB\n"
     ]
    }
   ],
   "source": [
    "CustomerDemographic.info()"
   ]
  },
  {
   "cell_type": "markdown",
   "id": "5893f67a",
   "metadata": {},
   "source": [
    "-- There is multi columns are useless and data types are not suitable for analysis."
   ]
  },
  {
   "cell_type": "code",
   "execution_count": 5,
   "id": "14ca5360",
   "metadata": {
    "scrolled": true
   },
   "outputs": [
    {
     "data": {
      "text/plain": [
       "0\n",
       "customer_id                              0\n",
       "first_name                               0\n",
       "last_name                              125\n",
       "gender                                   0\n",
       "past_3_years_bike_related_purchases      0\n",
       "DOB                                     87\n",
       "job_title                              506\n",
       "job_industry_category                  656\n",
       "wealth_segment                           0\n",
       "deceased_indicator                       0\n",
       "default                                302\n",
       "owns_car                                 0\n",
       "tenure                                  87\n",
       "dtype: int64"
      ]
     },
     "execution_count": 5,
     "metadata": {},
     "output_type": "execute_result"
    }
   ],
   "source": [
    "#check null values\n",
    "CustomerDemographic.isnull().sum()"
   ]
  },
  {
   "cell_type": "markdown",
   "id": "78041a07",
   "metadata": {},
   "source": [
    "-- There are 6 columns with null values."
   ]
  },
  {
   "cell_type": "code",
   "execution_count": 6,
   "id": "e4f92b9b",
   "metadata": {},
   "outputs": [
    {
     "data": {
      "text/plain": [
       "0"
      ]
     },
     "execution_count": 6,
     "metadata": {},
     "output_type": "execute_result"
    }
   ],
   "source": [
    "# check for null values\n",
    "CustomerDemographic.duplicated().sum()"
   ]
  },
  {
   "cell_type": "markdown",
   "id": "22e391ef",
   "metadata": {},
   "source": [
    "-- No duplicates."
   ]
  },
  {
   "cell_type": "markdown",
   "id": "02759aaf",
   "metadata": {},
   "source": [
    "### Data Types should be edited"
   ]
  },
  {
   "cell_type": "code",
   "execution_count": 7,
   "id": "032973db",
   "metadata": {},
   "outputs": [],
   "source": [
    "# The columns (customer_id, past_3_years_bike_related_purchases) should be int\n",
    "CustomerDemographic['customer_id'] = CustomerDemographic['customer_id'].astype('int64') \n",
    "CustomerDemographic['past_3_years_bike_related_purchases'] = CustomerDemographic['past_3_years_bike_related_purchases'].astype('int64')  \n",
    "\n",
    "# The columns (tenure) should be float\n",
    "CustomerDemographic['tenure'] = CustomerDemographic['tenure'].astype('float') \n",
    "\n",
    "# The column (DOB) should be datetype\n",
    "CustomerDemographic['DOB'] = pd.to_datetime(CustomerDemographic['DOB'])"
   ]
  },
  {
   "cell_type": "markdown",
   "id": "ee1022ad",
   "metadata": {},
   "source": [
    "### Remove columns"
   ]
  },
  {
   "cell_type": "code",
   "execution_count": 8,
   "id": "a1484352",
   "metadata": {},
   "outputs": [],
   "source": [
    "# remove default column becouse of inconsistent\n",
    "CustomerDemographic = CustomerDemographic.drop(['default'], axis=1)"
   ]
  },
  {
   "cell_type": "code",
   "execution_count": 9,
   "id": "4a58080b",
   "metadata": {},
   "outputs": [
    {
     "name": "stdout",
     "output_type": "stream",
     "text": [
      "<class 'pandas.core.frame.DataFrame'>\n",
      "RangeIndex: 4000 entries, 1 to 4000\n",
      "Data columns (total 12 columns):\n",
      " #   Column                               Non-Null Count  Dtype         \n",
      "---  ------                               --------------  -----         \n",
      " 0   customer_id                          4000 non-null   int64         \n",
      " 1   first_name                           4000 non-null   object        \n",
      " 2   last_name                            3875 non-null   object        \n",
      " 3   gender                               4000 non-null   object        \n",
      " 4   past_3_years_bike_related_purchases  4000 non-null   int64         \n",
      " 5   DOB                                  3913 non-null   datetime64[ns]\n",
      " 6   job_title                            3494 non-null   object        \n",
      " 7   job_industry_category                3344 non-null   object        \n",
      " 8   wealth_segment                       4000 non-null   object        \n",
      " 9   deceased_indicator                   4000 non-null   object        \n",
      " 10  owns_car                             4000 non-null   object        \n",
      " 11  tenure                               3913 non-null   float64       \n",
      "dtypes: datetime64[ns](1), float64(1), int64(2), object(8)\n",
      "memory usage: 375.1+ KB\n"
     ]
    }
   ],
   "source": [
    "#Check updates\n",
    "CustomerDemographic.info()"
   ]
  },
  {
   "cell_type": "markdown",
   "id": "b644ee69",
   "metadata": {},
   "source": [
    "### Exploring Columns"
   ]
  },
  {
   "cell_type": "code",
   "execution_count": 10,
   "id": "5067f245",
   "metadata": {},
   "outputs": [
    {
     "data": {
      "text/plain": [
       "Index(['customer_id', 'first_name', 'last_name', 'gender',\n",
       "       'past_3_years_bike_related_purchases', 'DOB', 'job_title',\n",
       "       'job_industry_category', 'wealth_segment', 'deceased_indicator',\n",
       "       'owns_car', 'tenure'],\n",
       "      dtype='object', name=0)"
      ]
     },
     "execution_count": 10,
     "metadata": {},
     "output_type": "execute_result"
    }
   ],
   "source": [
    "CustomerDemographic.columns"
   ]
  },
  {
   "cell_type": "code",
   "execution_count": 11,
   "id": "4f8bf59b",
   "metadata": {},
   "outputs": [
    {
     "data": {
      "text/plain": [
       "Female    2037\n",
       "Male      1872\n",
       "U           88\n",
       "F            1\n",
       "Femal        1\n",
       "M            1\n",
       "Name: gender, dtype: int64"
      ]
     },
     "execution_count": 11,
     "metadata": {},
     "output_type": "execute_result"
    }
   ],
   "source": [
    "CustomerDemographic['gender'].value_counts()"
   ]
  },
  {
   "cell_type": "code",
   "execution_count": 12,
   "id": "0f740b66",
   "metadata": {},
   "outputs": [
    {
     "data": {
      "text/plain": [
       "Female         2039\n",
       "Male           1873\n",
       "Unspecified      88\n",
       "Name: gender, dtype: int64"
      ]
     },
     "execution_count": 12,
     "metadata": {},
     "output_type": "execute_result"
    }
   ],
   "source": [
    "# update gender values to ('Male', 'Female', 'Unspecified')\n",
    "CustomerDemographic['gender'] = CustomerDemographic['gender'].replace('M', 'Male')\n",
    "CustomerDemographic['gender'] = CustomerDemographic['gender'].replace('F', 'Female')\n",
    "CustomerDemographic['gender'] = CustomerDemographic['gender'].replace('Femal', 'Female')\n",
    "CustomerDemographic['gender'] = CustomerDemographic['gender'].replace('U', 'Unspecified')\n",
    "\n",
    "#check update\n",
    "CustomerDemographic['gender'].value_counts()"
   ]
  },
  {
   "cell_type": "code",
   "execution_count": 13,
   "id": "aea47353",
   "metadata": {},
   "outputs": [
    {
     "data": {
      "text/plain": [
       "1978-01-30    7\n",
       "1964-07-08    4\n",
       "1962-12-17    4\n",
       "1978-08-19    4\n",
       "1977-05-13    4\n",
       "             ..\n",
       "1989-06-16    1\n",
       "1998-09-30    1\n",
       "1985-03-11    1\n",
       "1989-10-23    1\n",
       "1991-11-05    1\n",
       "Name: DOB, Length: 3448, dtype: int64"
      ]
     },
     "execution_count": 13,
     "metadata": {},
     "output_type": "execute_result"
    }
   ],
   "source": [
    "CustomerDemographic['DOB'].value_counts()"
   ]
  },
  {
   "cell_type": "code",
   "execution_count": 14,
   "id": "2db24aa5",
   "metadata": {},
   "outputs": [
    {
     "data": {
      "text/plain": [
       "Yes    2024\n",
       "No     1976\n",
       "Name: owns_car, dtype: int64"
      ]
     },
     "execution_count": 14,
     "metadata": {},
     "output_type": "execute_result"
    }
   ],
   "source": [
    "CustomerDemographic['owns_car'].value_counts()"
   ]
  },
  {
   "cell_type": "code",
   "execution_count": 15,
   "id": "ade56525",
   "metadata": {},
   "outputs": [
    {
     "data": {
      "text/plain": [
       "Mass Customer        2000\n",
       "High Net Worth       1021\n",
       "Affluent Customer     979\n",
       "Name: wealth_segment, dtype: int64"
      ]
     },
     "execution_count": 15,
     "metadata": {},
     "output_type": "execute_result"
    }
   ],
   "source": [
    "CustomerDemographic['wealth_segment'].value_counts()"
   ]
  },
  {
   "cell_type": "code",
   "execution_count": 16,
   "id": "05270f6e",
   "metadata": {},
   "outputs": [
    {
     "data": {
      "text/plain": [
       "N    3998\n",
       "Y       2\n",
       "Name: deceased_indicator, dtype: int64"
      ]
     },
     "execution_count": 16,
     "metadata": {},
     "output_type": "execute_result"
    }
   ],
   "source": [
    "CustomerDemographic['deceased_indicator'].value_counts()"
   ]
  },
  {
   "cell_type": "markdown",
   "id": "dbd09be3",
   "metadata": {},
   "source": [
    "<a id='ed2'></a>\n",
    "# Exploring CustomerAddress Dataset"
   ]
  },
  {
   "cell_type": "code",
   "execution_count": 17,
   "id": "459a3f4e",
   "metadata": {},
   "outputs": [
    {
     "data": {
      "text/html": [
       "<div>\n",
       "<style scoped>\n",
       "    .dataframe tbody tr th:only-of-type {\n",
       "        vertical-align: middle;\n",
       "    }\n",
       "\n",
       "    .dataframe tbody tr th {\n",
       "        vertical-align: top;\n",
       "    }\n",
       "\n",
       "    .dataframe thead th {\n",
       "        text-align: right;\n",
       "    }\n",
       "</style>\n",
       "<table border=\"1\" class=\"dataframe\">\n",
       "  <thead>\n",
       "    <tr style=\"text-align: right;\">\n",
       "      <th></th>\n",
       "      <th>customer_id</th>\n",
       "      <th>address</th>\n",
       "      <th>postcode</th>\n",
       "      <th>state</th>\n",
       "      <th>country</th>\n",
       "      <th>property_valuation</th>\n",
       "    </tr>\n",
       "  </thead>\n",
       "  <tbody>\n",
       "    <tr>\n",
       "      <th>1</th>\n",
       "      <td>1</td>\n",
       "      <td>060 Morning Avenue</td>\n",
       "      <td>2016</td>\n",
       "      <td>New South Wales</td>\n",
       "      <td>Australia</td>\n",
       "      <td>10</td>\n",
       "    </tr>\n",
       "    <tr>\n",
       "      <th>2</th>\n",
       "      <td>2</td>\n",
       "      <td>6 Meadow Vale Court</td>\n",
       "      <td>2153</td>\n",
       "      <td>New South Wales</td>\n",
       "      <td>Australia</td>\n",
       "      <td>10</td>\n",
       "    </tr>\n",
       "    <tr>\n",
       "      <th>3</th>\n",
       "      <td>4</td>\n",
       "      <td>0 Holy Cross Court</td>\n",
       "      <td>4211</td>\n",
       "      <td>QLD</td>\n",
       "      <td>Australia</td>\n",
       "      <td>9</td>\n",
       "    </tr>\n",
       "    <tr>\n",
       "      <th>4</th>\n",
       "      <td>5</td>\n",
       "      <td>17979 Del Mar Point</td>\n",
       "      <td>2448</td>\n",
       "      <td>New South Wales</td>\n",
       "      <td>Australia</td>\n",
       "      <td>4</td>\n",
       "    </tr>\n",
       "    <tr>\n",
       "      <th>5</th>\n",
       "      <td>6</td>\n",
       "      <td>9 Oakridge Court</td>\n",
       "      <td>3216</td>\n",
       "      <td>VIC</td>\n",
       "      <td>Australia</td>\n",
       "      <td>9</td>\n",
       "    </tr>\n",
       "  </tbody>\n",
       "</table>\n",
       "</div>"
      ],
      "text/plain": [
       "0 customer_id              address postcode            state    country  \\\n",
       "1           1   060 Morning Avenue     2016  New South Wales  Australia   \n",
       "2           2  6 Meadow Vale Court     2153  New South Wales  Australia   \n",
       "3           4   0 Holy Cross Court     4211              QLD  Australia   \n",
       "4           5  17979 Del Mar Point     2448  New South Wales  Australia   \n",
       "5           6     9 Oakridge Court     3216              VIC  Australia   \n",
       "\n",
       "0 property_valuation  \n",
       "1                 10  \n",
       "2                 10  \n",
       "3                  9  \n",
       "4                  4  \n",
       "5                  9  "
      ]
     },
     "execution_count": 17,
     "metadata": {},
     "output_type": "execute_result"
    }
   ],
   "source": [
    "CustomerAddress.columns = CustomerAddress.iloc[0]\n",
    "CustomerAddress = CustomerAddress[1:]\n",
    "\n",
    "CustomerAddress.head()"
   ]
  },
  {
   "cell_type": "code",
   "execution_count": 18,
   "id": "1aa97874",
   "metadata": {},
   "outputs": [
    {
     "name": "stdout",
     "output_type": "stream",
     "text": [
      "<class 'pandas.core.frame.DataFrame'>\n",
      "RangeIndex: 3999 entries, 1 to 3999\n",
      "Data columns (total 6 columns):\n",
      " #   Column              Non-Null Count  Dtype \n",
      "---  ------              --------------  ----- \n",
      " 0   customer_id         3999 non-null   object\n",
      " 1   address             3999 non-null   object\n",
      " 2   postcode            3999 non-null   object\n",
      " 3   state               3999 non-null   object\n",
      " 4   country             3999 non-null   object\n",
      " 5   property_valuation  3999 non-null   object\n",
      "dtypes: object(6)\n",
      "memory usage: 187.6+ KB\n"
     ]
    }
   ],
   "source": [
    "CustomerAddress.info()"
   ]
  },
  {
   "cell_type": "markdown",
   "id": "e1660519",
   "metadata": {},
   "source": [
    "-- Customer_id & property_valuation columns need to data types convert for analysis."
   ]
  },
  {
   "cell_type": "code",
   "execution_count": 19,
   "id": "3056246e",
   "metadata": {},
   "outputs": [
    {
     "data": {
      "text/plain": [
       "0\n",
       "customer_id           0\n",
       "address               0\n",
       "postcode              0\n",
       "state                 0\n",
       "country               0\n",
       "property_valuation    0\n",
       "dtype: int64"
      ]
     },
     "execution_count": 19,
     "metadata": {},
     "output_type": "execute_result"
    }
   ],
   "source": [
    "# check for null values\n",
    "CustomerAddress.isnull().sum()"
   ]
  },
  {
   "cell_type": "markdown",
   "id": "1097bf8f",
   "metadata": {},
   "source": [
    "-- There is no null values"
   ]
  },
  {
   "cell_type": "code",
   "execution_count": 20,
   "id": "b3311912",
   "metadata": {},
   "outputs": [
    {
     "data": {
      "text/plain": [
       "0"
      ]
     },
     "execution_count": 20,
     "metadata": {},
     "output_type": "execute_result"
    }
   ],
   "source": [
    "# check for duplicates\n",
    "CustomerAddress.duplicated().sum()"
   ]
  },
  {
   "cell_type": "markdown",
   "id": "dd3e13d7",
   "metadata": {},
   "source": [
    "-- No duplicates."
   ]
  },
  {
   "cell_type": "markdown",
   "id": "12c7914c",
   "metadata": {},
   "source": [
    "### Data Types should be edited"
   ]
  },
  {
   "cell_type": "code",
   "execution_count": 21,
   "id": "3f75deb9",
   "metadata": {},
   "outputs": [],
   "source": [
    "# The columns (customer_id, postcode, property_valuation) should be int\n",
    "CustomerAddress['customer_id'] = CustomerAddress['customer_id'].astype('int64') \n",
    "CustomerAddress['property_valuation'] = CustomerAddress['property_valuation'].astype('int64') \n",
    "CustomerAddress['postcode'] = CustomerAddress['postcode'].astype('int64') "
   ]
  },
  {
   "cell_type": "code",
   "execution_count": 22,
   "id": "bac6ba35",
   "metadata": {},
   "outputs": [
    {
     "name": "stdout",
     "output_type": "stream",
     "text": [
      "<class 'pandas.core.frame.DataFrame'>\n",
      "RangeIndex: 3999 entries, 1 to 3999\n",
      "Data columns (total 6 columns):\n",
      " #   Column              Non-Null Count  Dtype \n",
      "---  ------              --------------  ----- \n",
      " 0   customer_id         3999 non-null   int64 \n",
      " 1   address             3999 non-null   object\n",
      " 2   postcode            3999 non-null   int64 \n",
      " 3   state               3999 non-null   object\n",
      " 4   country             3999 non-null   object\n",
      " 5   property_valuation  3999 non-null   int64 \n",
      "dtypes: int64(3), object(3)\n",
      "memory usage: 187.6+ KB\n"
     ]
    }
   ],
   "source": [
    "# check for updates\n",
    "CustomerAddress.info()"
   ]
  },
  {
   "cell_type": "markdown",
   "id": "67b73d9b",
   "metadata": {},
   "source": [
    "### Exploring Columns"
   ]
  },
  {
   "cell_type": "code",
   "execution_count": 23,
   "id": "3e06a164",
   "metadata": {},
   "outputs": [
    {
     "data": {
      "text/plain": [
       "Index(['customer_id', 'address', 'postcode', 'state', 'country',\n",
       "       'property_valuation'],\n",
       "      dtype='object', name=0)"
      ]
     },
     "execution_count": 23,
     "metadata": {},
     "output_type": "execute_result"
    }
   ],
   "source": [
    "CustomerAddress.columns"
   ]
  },
  {
   "cell_type": "code",
   "execution_count": 24,
   "id": "e59b5b5f",
   "metadata": {},
   "outputs": [
    {
     "data": {
      "text/plain": [
       "NSW                2054\n",
       "VIC                 939\n",
       "QLD                 838\n",
       "New South Wales      86\n",
       "Victoria             82\n",
       "Name: state, dtype: int64"
      ]
     },
     "execution_count": 24,
     "metadata": {},
     "output_type": "execute_result"
    }
   ],
   "source": [
    "CustomerAddress['state'].value_counts()"
   ]
  },
  {
   "cell_type": "markdown",
   "id": "780d6595",
   "metadata": {},
   "source": [
    "-- \"New South Wales\" Should be changed to \"NSW\"<br>-- \"Victoria\" Should be changed to \"VIC\""
   ]
  },
  {
   "cell_type": "code",
   "execution_count": 25,
   "id": "3ebefd78",
   "metadata": {},
   "outputs": [
    {
     "data": {
      "text/plain": [
       "NSW    2140\n",
       "VIC    1021\n",
       "QLD     838\n",
       "Name: state, dtype: int64"
      ]
     },
     "execution_count": 25,
     "metadata": {},
     "output_type": "execute_result"
    }
   ],
   "source": [
    "# replace New South Wales to NSW\n",
    "CustomerAddress['state'] = CustomerAddress['state'].replace('New South Wales', 'NSW')\n",
    "# replace Victoria ro VIC\n",
    "CustomerAddress['state'] = CustomerAddress['state'].replace('Victoria', 'VIC')\n",
    "\n",
    "#check for updates\n",
    "CustomerAddress['state'].value_counts()"
   ]
  },
  {
   "cell_type": "code",
   "execution_count": 26,
   "id": "55035f3e",
   "metadata": {},
   "outputs": [
    {
     "data": {
      "text/plain": [
       "Australia    3999\n",
       "Name: country, dtype: int64"
      ]
     },
     "execution_count": 26,
     "metadata": {},
     "output_type": "execute_result"
    }
   ],
   "source": [
    "CustomerAddress['country'].value_counts()"
   ]
  },
  {
   "cell_type": "code",
   "execution_count": 27,
   "id": "4ca3ac1a",
   "metadata": {},
   "outputs": [
    {
     "data": {
      "text/plain": [
       "9     647\n",
       "8     646\n",
       "10    577\n",
       "7     493\n",
       "11    281\n",
       "6     238\n",
       "5     225\n",
       "4     214\n",
       "12    195\n",
       "3     186\n",
       "1     154\n",
       "2     143\n",
       "Name: property_valuation, dtype: int64"
      ]
     },
     "execution_count": 27,
     "metadata": {},
     "output_type": "execute_result"
    }
   ],
   "source": [
    "CustomerAddress['property_valuation'].value_counts()"
   ]
  },
  {
   "cell_type": "markdown",
   "id": "87636be7",
   "metadata": {},
   "source": [
    "<a id='#ed3'></a>\n",
    "# Exploring Transactions Dataset"
   ]
  },
  {
   "cell_type": "code",
   "execution_count": 28,
   "id": "9392f8d7",
   "metadata": {},
   "outputs": [
    {
     "data": {
      "text/html": [
       "<div>\n",
       "<style scoped>\n",
       "    .dataframe tbody tr th:only-of-type {\n",
       "        vertical-align: middle;\n",
       "    }\n",
       "\n",
       "    .dataframe tbody tr th {\n",
       "        vertical-align: top;\n",
       "    }\n",
       "\n",
       "    .dataframe thead th {\n",
       "        text-align: right;\n",
       "    }\n",
       "</style>\n",
       "<table border=\"1\" class=\"dataframe\">\n",
       "  <thead>\n",
       "    <tr style=\"text-align: right;\">\n",
       "      <th></th>\n",
       "      <th>transaction_id</th>\n",
       "      <th>product_id</th>\n",
       "      <th>customer_id</th>\n",
       "      <th>transaction_date</th>\n",
       "      <th>online_order</th>\n",
       "      <th>order_status</th>\n",
       "      <th>brand</th>\n",
       "      <th>product_line</th>\n",
       "      <th>product_class</th>\n",
       "      <th>product_size</th>\n",
       "      <th>list_price</th>\n",
       "      <th>standard_cost</th>\n",
       "      <th>product_first_sold_date</th>\n",
       "    </tr>\n",
       "  </thead>\n",
       "  <tbody>\n",
       "    <tr>\n",
       "      <th>1</th>\n",
       "      <td>1</td>\n",
       "      <td>2</td>\n",
       "      <td>2950</td>\n",
       "      <td>2017-02-25 00:00:00</td>\n",
       "      <td>False</td>\n",
       "      <td>Approved</td>\n",
       "      <td>Solex</td>\n",
       "      <td>Standard</td>\n",
       "      <td>medium</td>\n",
       "      <td>medium</td>\n",
       "      <td>71.49</td>\n",
       "      <td>53.62</td>\n",
       "      <td>41245</td>\n",
       "    </tr>\n",
       "    <tr>\n",
       "      <th>2</th>\n",
       "      <td>2</td>\n",
       "      <td>3</td>\n",
       "      <td>3120</td>\n",
       "      <td>2017-05-21 00:00:00</td>\n",
       "      <td>True</td>\n",
       "      <td>Approved</td>\n",
       "      <td>Trek Bicycles</td>\n",
       "      <td>Standard</td>\n",
       "      <td>medium</td>\n",
       "      <td>large</td>\n",
       "      <td>2091.47</td>\n",
       "      <td>388.92</td>\n",
       "      <td>41701</td>\n",
       "    </tr>\n",
       "    <tr>\n",
       "      <th>3</th>\n",
       "      <td>3</td>\n",
       "      <td>37</td>\n",
       "      <td>402</td>\n",
       "      <td>2017-10-16 00:00:00</td>\n",
       "      <td>False</td>\n",
       "      <td>Approved</td>\n",
       "      <td>OHM Cycles</td>\n",
       "      <td>Standard</td>\n",
       "      <td>low</td>\n",
       "      <td>medium</td>\n",
       "      <td>1793.43</td>\n",
       "      <td>248.82</td>\n",
       "      <td>36361</td>\n",
       "    </tr>\n",
       "    <tr>\n",
       "      <th>4</th>\n",
       "      <td>4</td>\n",
       "      <td>88</td>\n",
       "      <td>3135</td>\n",
       "      <td>2017-08-31 00:00:00</td>\n",
       "      <td>False</td>\n",
       "      <td>Approved</td>\n",
       "      <td>Norco Bicycles</td>\n",
       "      <td>Standard</td>\n",
       "      <td>medium</td>\n",
       "      <td>medium</td>\n",
       "      <td>1198.46</td>\n",
       "      <td>381.1</td>\n",
       "      <td>36145</td>\n",
       "    </tr>\n",
       "    <tr>\n",
       "      <th>5</th>\n",
       "      <td>5</td>\n",
       "      <td>78</td>\n",
       "      <td>787</td>\n",
       "      <td>2017-10-01 00:00:00</td>\n",
       "      <td>True</td>\n",
       "      <td>Approved</td>\n",
       "      <td>Giant Bicycles</td>\n",
       "      <td>Standard</td>\n",
       "      <td>medium</td>\n",
       "      <td>large</td>\n",
       "      <td>1765.3</td>\n",
       "      <td>709.48</td>\n",
       "      <td>42226</td>\n",
       "    </tr>\n",
       "  </tbody>\n",
       "</table>\n",
       "</div>"
      ],
      "text/plain": [
       "0 transaction_id product_id customer_id     transaction_date online_order  \\\n",
       "1              1          2        2950  2017-02-25 00:00:00        False   \n",
       "2              2          3        3120  2017-05-21 00:00:00         True   \n",
       "3              3         37         402  2017-10-16 00:00:00        False   \n",
       "4              4         88        3135  2017-08-31 00:00:00        False   \n",
       "5              5         78         787  2017-10-01 00:00:00         True   \n",
       "\n",
       "0 order_status           brand product_line product_class product_size  \\\n",
       "1     Approved           Solex     Standard        medium       medium   \n",
       "2     Approved   Trek Bicycles     Standard        medium        large   \n",
       "3     Approved      OHM Cycles     Standard           low       medium   \n",
       "4     Approved  Norco Bicycles     Standard        medium       medium   \n",
       "5     Approved  Giant Bicycles     Standard        medium        large   \n",
       "\n",
       "0 list_price standard_cost product_first_sold_date  \n",
       "1      71.49         53.62                   41245  \n",
       "2    2091.47        388.92                   41701  \n",
       "3    1793.43        248.82                   36361  \n",
       "4    1198.46         381.1                   36145  \n",
       "5     1765.3        709.48                   42226  "
      ]
     },
     "execution_count": 28,
     "metadata": {},
     "output_type": "execute_result"
    }
   ],
   "source": [
    "Transactions.columns = Transactions.iloc[0]\n",
    "Transactions = Transactions[1:]\n",
    "\n",
    "Transactions.head()"
   ]
  },
  {
   "cell_type": "code",
   "execution_count": 29,
   "id": "1ca712b6",
   "metadata": {},
   "outputs": [
    {
     "name": "stdout",
     "output_type": "stream",
     "text": [
      "<class 'pandas.core.frame.DataFrame'>\n",
      "RangeIndex: 20000 entries, 1 to 20000\n",
      "Data columns (total 13 columns):\n",
      " #   Column                   Non-Null Count  Dtype \n",
      "---  ------                   --------------  ----- \n",
      " 0   transaction_id           20000 non-null  object\n",
      " 1   product_id               20000 non-null  object\n",
      " 2   customer_id              20000 non-null  object\n",
      " 3   transaction_date         20000 non-null  object\n",
      " 4   online_order             19640 non-null  object\n",
      " 5   order_status             20000 non-null  object\n",
      " 6   brand                    19803 non-null  object\n",
      " 7   product_line             19803 non-null  object\n",
      " 8   product_class            19803 non-null  object\n",
      " 9   product_size             19803 non-null  object\n",
      " 10  list_price               20000 non-null  object\n",
      " 11  standard_cost            19803 non-null  object\n",
      " 12  product_first_sold_date  19803 non-null  object\n",
      "dtypes: object(13)\n",
      "memory usage: 2.0+ MB\n"
     ]
    }
   ],
   "source": [
    "Transactions.info()"
   ]
  },
  {
   "cell_type": "markdown",
   "id": "398fbb50",
   "metadata": {},
   "source": [
    "-- There is many columns data types are not suitable for analysis."
   ]
  },
  {
   "cell_type": "code",
   "execution_count": 30,
   "id": "3f9a52b6",
   "metadata": {},
   "outputs": [
    {
     "data": {
      "text/plain": [
       "0\n",
       "transaction_id               0\n",
       "product_id                   0\n",
       "customer_id                  0\n",
       "transaction_date             0\n",
       "online_order               360\n",
       "order_status                 0\n",
       "brand                      197\n",
       "product_line               197\n",
       "product_class              197\n",
       "product_size               197\n",
       "list_price                   0\n",
       "standard_cost              197\n",
       "product_first_sold_date    197\n",
       "dtype: int64"
      ]
     },
     "execution_count": 30,
     "metadata": {},
     "output_type": "execute_result"
    }
   ],
   "source": [
    "# check for null values\n",
    "Transactions.isnull().sum()"
   ]
  },
  {
   "cell_type": "markdown",
   "id": "7d155223",
   "metadata": {},
   "source": [
    "-- There are 7 columns with null values"
   ]
  },
  {
   "cell_type": "code",
   "execution_count": 31,
   "id": "a6c545b8",
   "metadata": {},
   "outputs": [
    {
     "data": {
      "text/plain": [
       "0"
      ]
     },
     "execution_count": 31,
     "metadata": {},
     "output_type": "execute_result"
    }
   ],
   "source": [
    "# check duplications\n",
    "Transactions.duplicated().sum()"
   ]
  },
  {
   "cell_type": "markdown",
   "id": "1a937e9a",
   "metadata": {},
   "source": [
    "-- No duplicates."
   ]
  },
  {
   "cell_type": "markdown",
   "id": "f1ea96c7",
   "metadata": {},
   "source": [
    "### Data Types should be edited"
   ]
  },
  {
   "cell_type": "code",
   "execution_count": 32,
   "id": "9a0dc10d",
   "metadata": {},
   "outputs": [],
   "source": [
    "# The columns (transaction_id, product_id, customer_id, list_price) should be int\n",
    "Transactions['transaction_id'] = Transactions['transaction_id'].astype('int64')\n",
    "Transactions['product_id'] = Transactions['product_id'].astype('int64')\n",
    "Transactions['customer_id'] = Transactions['customer_id'].astype('int64')\n",
    "Transactions['list_price'] = Transactions['list_price'].astype('int64')\n",
    "\n",
    "# The columns (standard_cost) should be float\n",
    "Transactions['standard_cost'] = Transactions['standard_cost'].astype('float')\n",
    "\n",
    "# The columns (transaction_date, product_first_sold_date) should be date type\n",
    "Transactions['transaction_date'] = pd.to_datetime(Transactions['transaction_date'])\n",
    "Transactions['product_first_sold_date'] = pd.to_datetime(Transactions['product_first_sold_date'])"
   ]
  },
  {
   "cell_type": "code",
   "execution_count": 33,
   "id": "6ba6d527",
   "metadata": {},
   "outputs": [
    {
     "name": "stdout",
     "output_type": "stream",
     "text": [
      "<class 'pandas.core.frame.DataFrame'>\n",
      "RangeIndex: 20000 entries, 1 to 20000\n",
      "Data columns (total 13 columns):\n",
      " #   Column                   Non-Null Count  Dtype         \n",
      "---  ------                   --------------  -----         \n",
      " 0   transaction_id           20000 non-null  int64         \n",
      " 1   product_id               20000 non-null  int64         \n",
      " 2   customer_id              20000 non-null  int64         \n",
      " 3   transaction_date         20000 non-null  datetime64[ns]\n",
      " 4   online_order             19640 non-null  object        \n",
      " 5   order_status             20000 non-null  object        \n",
      " 6   brand                    19803 non-null  object        \n",
      " 7   product_line             19803 non-null  object        \n",
      " 8   product_class            19803 non-null  object        \n",
      " 9   product_size             19803 non-null  object        \n",
      " 10  list_price               20000 non-null  int64         \n",
      " 11  standard_cost            19803 non-null  float64       \n",
      " 12  product_first_sold_date  19803 non-null  datetime64[ns]\n",
      "dtypes: datetime64[ns](2), float64(1), int64(4), object(6)\n",
      "memory usage: 2.0+ MB\n"
     ]
    }
   ],
   "source": [
    "# check for updates\n",
    "Transactions.info()"
   ]
  },
  {
   "cell_type": "markdown",
   "id": "96ade3aa",
   "metadata": {},
   "source": [
    "### Exploring Columns"
   ]
  },
  {
   "cell_type": "code",
   "execution_count": 34,
   "id": "5f33c880",
   "metadata": {},
   "outputs": [
    {
     "data": {
      "text/plain": [
       "Index(['transaction_id', 'product_id', 'customer_id', 'transaction_date',\n",
       "       'online_order', 'order_status', 'brand', 'product_line',\n",
       "       'product_class', 'product_size', 'list_price', 'standard_cost',\n",
       "       'product_first_sold_date'],\n",
       "      dtype='object', name=0)"
      ]
     },
     "execution_count": 34,
     "metadata": {},
     "output_type": "execute_result"
    }
   ],
   "source": [
    "Transactions.columns"
   ]
  },
  {
   "cell_type": "code",
   "execution_count": 35,
   "id": "de265ab2",
   "metadata": {},
   "outputs": [
    {
     "data": {
      "text/plain": [
       "2017-02-14    82\n",
       "2017-08-18    82\n",
       "2017-10-15    76\n",
       "2017-01-31    73\n",
       "2017-12-19    71\n",
       "              ..\n",
       "2017-01-12    38\n",
       "2017-12-07    37\n",
       "2017-03-29    36\n",
       "2017-09-25    35\n",
       "2017-10-19    32\n",
       "Name: transaction_date, Length: 364, dtype: int64"
      ]
     },
     "execution_count": 35,
     "metadata": {},
     "output_type": "execute_result"
    }
   ],
   "source": [
    "Transactions['transaction_date'].value_counts()"
   ]
  },
  {
   "cell_type": "code",
   "execution_count": 36,
   "id": "13d55b6a",
   "metadata": {},
   "outputs": [
    {
     "data": {
      "text/plain": [
       "Approved     19821\n",
       "Cancelled      179\n",
       "Name: order_status, dtype: int64"
      ]
     },
     "execution_count": 36,
     "metadata": {},
     "output_type": "execute_result"
    }
   ],
   "source": [
    "Transactions['order_status'].value_counts()"
   ]
  },
  {
   "cell_type": "code",
   "execution_count": 37,
   "id": "db9bc1a1",
   "metadata": {},
   "outputs": [
    {
     "data": {
      "text/plain": [
       "1970-01-01 00:00:00.000033879    234\n",
       "1970-01-01 00:00:00.000041064    229\n",
       "1970-01-01 00:00:00.000037823    227\n",
       "1970-01-01 00:00:00.000039880    222\n",
       "1970-01-01 00:00:00.000038216    220\n",
       "                                ... \n",
       "1970-01-01 00:00:00.000041848    169\n",
       "1970-01-01 00:00:00.000042404    168\n",
       "1970-01-01 00:00:00.000041922    166\n",
       "1970-01-01 00:00:00.000037659    163\n",
       "1970-01-01 00:00:00.000034586    162\n",
       "Name: product_first_sold_date, Length: 100, dtype: int64"
      ]
     },
     "execution_count": 37,
     "metadata": {},
     "output_type": "execute_result"
    }
   ],
   "source": [
    "Transactions['product_first_sold_date'].value_counts()"
   ]
  },
  {
   "cell_type": "markdown",
   "id": "2f88c29f",
   "metadata": {},
   "source": [
    "-- product_first_sold_date values are illogical as it show values in the same day."
   ]
  },
  {
   "cell_type": "markdown",
   "id": "706a9e97",
   "metadata": {},
   "source": [
    "<a id='#ed4'></a>\n",
    "# Exploring NewCustomerList Dataset"
   ]
  },
  {
   "cell_type": "code",
   "execution_count": 38,
   "id": "a8844a97",
   "metadata": {},
   "outputs": [
    {
     "data": {
      "text/html": [
       "<div>\n",
       "<style scoped>\n",
       "    .dataframe tbody tr th:only-of-type {\n",
       "        vertical-align: middle;\n",
       "    }\n",
       "\n",
       "    .dataframe tbody tr th {\n",
       "        vertical-align: top;\n",
       "    }\n",
       "\n",
       "    .dataframe thead th {\n",
       "        text-align: right;\n",
       "    }\n",
       "</style>\n",
       "<table border=\"1\" class=\"dataframe\">\n",
       "  <thead>\n",
       "    <tr style=\"text-align: right;\">\n",
       "      <th></th>\n",
       "      <th>first_name</th>\n",
       "      <th>last_name</th>\n",
       "      <th>gender</th>\n",
       "      <th>past_3_years_bike_related_purchases</th>\n",
       "      <th>DOB</th>\n",
       "      <th>job_title</th>\n",
       "      <th>job_industry_category</th>\n",
       "      <th>wealth_segment</th>\n",
       "      <th>deceased_indicator</th>\n",
       "      <th>owns_car</th>\n",
       "      <th>...</th>\n",
       "      <th>state</th>\n",
       "      <th>country</th>\n",
       "      <th>property_valuation</th>\n",
       "      <th>NaN</th>\n",
       "      <th>NaN</th>\n",
       "      <th>NaN</th>\n",
       "      <th>NaN</th>\n",
       "      <th>NaN</th>\n",
       "      <th>Rank</th>\n",
       "      <th>Value</th>\n",
       "    </tr>\n",
       "  </thead>\n",
       "  <tbody>\n",
       "    <tr>\n",
       "      <th>1</th>\n",
       "      <td>Chickie</td>\n",
       "      <td>Brister</td>\n",
       "      <td>Male</td>\n",
       "      <td>86</td>\n",
       "      <td>1957-07-12</td>\n",
       "      <td>General Manager</td>\n",
       "      <td>Manufacturing</td>\n",
       "      <td>Mass Customer</td>\n",
       "      <td>N</td>\n",
       "      <td>Yes</td>\n",
       "      <td>...</td>\n",
       "      <td>QLD</td>\n",
       "      <td>Australia</td>\n",
       "      <td>6</td>\n",
       "      <td>0.68</td>\n",
       "      <td>0.85</td>\n",
       "      <td>1.0625</td>\n",
       "      <td>0.903125</td>\n",
       "      <td>1.0</td>\n",
       "      <td>1</td>\n",
       "      <td>1.71875</td>\n",
       "    </tr>\n",
       "    <tr>\n",
       "      <th>2</th>\n",
       "      <td>Morly</td>\n",
       "      <td>Genery</td>\n",
       "      <td>Male</td>\n",
       "      <td>69</td>\n",
       "      <td>1970-03-22</td>\n",
       "      <td>Structural Engineer</td>\n",
       "      <td>Property</td>\n",
       "      <td>Mass Customer</td>\n",
       "      <td>N</td>\n",
       "      <td>No</td>\n",
       "      <td>...</td>\n",
       "      <td>NSW</td>\n",
       "      <td>Australia</td>\n",
       "      <td>11</td>\n",
       "      <td>0.47</td>\n",
       "      <td>0.47</td>\n",
       "      <td>0.5875</td>\n",
       "      <td>0.499375</td>\n",
       "      <td>1.0</td>\n",
       "      <td>1</td>\n",
       "      <td>1.71875</td>\n",
       "    </tr>\n",
       "    <tr>\n",
       "      <th>3</th>\n",
       "      <td>Ardelis</td>\n",
       "      <td>Forrester</td>\n",
       "      <td>Female</td>\n",
       "      <td>10</td>\n",
       "      <td>1974-08-28 00:00:00</td>\n",
       "      <td>Senior Cost Accountant</td>\n",
       "      <td>Financial Services</td>\n",
       "      <td>Affluent Customer</td>\n",
       "      <td>N</td>\n",
       "      <td>No</td>\n",
       "      <td>...</td>\n",
       "      <td>VIC</td>\n",
       "      <td>Australia</td>\n",
       "      <td>5</td>\n",
       "      <td>0.54</td>\n",
       "      <td>0.54</td>\n",
       "      <td>0.5400</td>\n",
       "      <td>0.540000</td>\n",
       "      <td>1.0</td>\n",
       "      <td>1</td>\n",
       "      <td>1.71875</td>\n",
       "    </tr>\n",
       "    <tr>\n",
       "      <th>4</th>\n",
       "      <td>Lucine</td>\n",
       "      <td>Stutt</td>\n",
       "      <td>Female</td>\n",
       "      <td>64</td>\n",
       "      <td>1979-01-28</td>\n",
       "      <td>Account Representative III</td>\n",
       "      <td>Manufacturing</td>\n",
       "      <td>Affluent Customer</td>\n",
       "      <td>N</td>\n",
       "      <td>Yes</td>\n",
       "      <td>...</td>\n",
       "      <td>QLD</td>\n",
       "      <td>Australia</td>\n",
       "      <td>1</td>\n",
       "      <td>0.40</td>\n",
       "      <td>0.50</td>\n",
       "      <td>0.5000</td>\n",
       "      <td>0.500000</td>\n",
       "      <td>4.0</td>\n",
       "      <td>4</td>\n",
       "      <td>1.703125</td>\n",
       "    </tr>\n",
       "    <tr>\n",
       "      <th>5</th>\n",
       "      <td>Melinda</td>\n",
       "      <td>Hadlee</td>\n",
       "      <td>Female</td>\n",
       "      <td>34</td>\n",
       "      <td>1965-09-21</td>\n",
       "      <td>Financial Analyst</td>\n",
       "      <td>Financial Services</td>\n",
       "      <td>Affluent Customer</td>\n",
       "      <td>N</td>\n",
       "      <td>No</td>\n",
       "      <td>...</td>\n",
       "      <td>NSW</td>\n",
       "      <td>Australia</td>\n",
       "      <td>9</td>\n",
       "      <td>0.74</td>\n",
       "      <td>0.74</td>\n",
       "      <td>0.9250</td>\n",
       "      <td>0.925000</td>\n",
       "      <td>4.0</td>\n",
       "      <td>4</td>\n",
       "      <td>1.703125</td>\n",
       "    </tr>\n",
       "  </tbody>\n",
       "</table>\n",
       "<p>5 rows × 23 columns</p>\n",
       "</div>"
      ],
      "text/plain": [
       "0 first_name  last_name  gender past_3_years_bike_related_purchases  \\\n",
       "1    Chickie    Brister    Male                                  86   \n",
       "2      Morly     Genery    Male                                  69   \n",
       "3    Ardelis  Forrester  Female                                  10   \n",
       "4     Lucine      Stutt  Female                                  64   \n",
       "5    Melinda     Hadlee  Female                                  34   \n",
       "\n",
       "0                  DOB                   job_title job_industry_category  \\\n",
       "1           1957-07-12             General Manager         Manufacturing   \n",
       "2           1970-03-22         Structural Engineer              Property   \n",
       "3  1974-08-28 00:00:00      Senior Cost Accountant    Financial Services   \n",
       "4           1979-01-28  Account Representative III         Manufacturing   \n",
       "5           1965-09-21           Financial Analyst    Financial Services   \n",
       "\n",
       "0     wealth_segment deceased_indicator owns_car  ... state    country  \\\n",
       "1      Mass Customer                  N      Yes  ...   QLD  Australia   \n",
       "2      Mass Customer                  N       No  ...   NSW  Australia   \n",
       "3  Affluent Customer                  N       No  ...   VIC  Australia   \n",
       "4  Affluent Customer                  N      Yes  ...   QLD  Australia   \n",
       "5  Affluent Customer                  N       No  ...   NSW  Australia   \n",
       "\n",
       "0 property_valuation   NaN   NaN     NaN       NaN  NaN  Rank     Value  \n",
       "1                  6  0.68  0.85  1.0625  0.903125  1.0     1   1.71875  \n",
       "2                 11  0.47  0.47  0.5875  0.499375  1.0     1   1.71875  \n",
       "3                  5  0.54  0.54  0.5400  0.540000  1.0     1   1.71875  \n",
       "4                  1  0.40  0.50  0.5000  0.500000  4.0     4  1.703125  \n",
       "5                  9  0.74  0.74  0.9250  0.925000  4.0     4  1.703125  \n",
       "\n",
       "[5 rows x 23 columns]"
      ]
     },
     "execution_count": 38,
     "metadata": {},
     "output_type": "execute_result"
    }
   ],
   "source": [
    "NewCustomerList.columns = NewCustomerList.iloc[0]\n",
    "NewCustomerList = NewCustomerList[1:]\n",
    "\n",
    "NewCustomerList.head()"
   ]
  },
  {
   "cell_type": "code",
   "execution_count": 39,
   "id": "ad90d538",
   "metadata": {},
   "outputs": [
    {
     "name": "stdout",
     "output_type": "stream",
     "text": [
      "<class 'pandas.core.frame.DataFrame'>\n",
      "RangeIndex: 1000 entries, 1 to 1000\n",
      "Data columns (total 23 columns):\n",
      " #   Column                               Non-Null Count  Dtype  \n",
      "---  ------                               --------------  -----  \n",
      " 0   first_name                           1000 non-null   object \n",
      " 1   last_name                            971 non-null    object \n",
      " 2   gender                               1000 non-null   object \n",
      " 3   past_3_years_bike_related_purchases  1000 non-null   object \n",
      " 4   DOB                                  983 non-null    object \n",
      " 5   job_title                            894 non-null    object \n",
      " 6   job_industry_category                835 non-null    object \n",
      " 7   wealth_segment                       1000 non-null   object \n",
      " 8   deceased_indicator                   1000 non-null   object \n",
      " 9   owns_car                             1000 non-null   object \n",
      " 10  tenure                               1000 non-null   object \n",
      " 11  address                              1000 non-null   object \n",
      " 12  postcode                             1000 non-null   object \n",
      " 13  state                                1000 non-null   object \n",
      " 14  country                              1000 non-null   object \n",
      " 15  property_valuation                   1000 non-null   object \n",
      " 16  nan                                  1000 non-null   float64\n",
      " 17  nan                                  1000 non-null   float64\n",
      " 18  nan                                  1000 non-null   float64\n",
      " 19  nan                                  1000 non-null   float64\n",
      " 20  nan                                  1000 non-null   float64\n",
      " 21  Rank                                 1000 non-null   object \n",
      " 22  Value                                1000 non-null   object \n",
      "dtypes: float64(5), object(18)\n",
      "memory usage: 179.8+ KB\n"
     ]
    }
   ],
   "source": [
    "NewCustomerList.info()"
   ]
  },
  {
   "cell_type": "markdown",
   "id": "46635bac",
   "metadata": {},
   "source": [
    "-- There are many useless columns and columns with not suitable data types for analysis."
   ]
  },
  {
   "cell_type": "code",
   "execution_count": 40,
   "id": "4e7d632b",
   "metadata": {},
   "outputs": [
    {
     "data": {
      "text/plain": [
       "0\n",
       "first_name                               0\n",
       "last_name                               29\n",
       "gender                                   0\n",
       "past_3_years_bike_related_purchases      0\n",
       "DOB                                     17\n",
       "job_title                              106\n",
       "job_industry_category                  165\n",
       "wealth_segment                           0\n",
       "deceased_indicator                       0\n",
       "owns_car                                 0\n",
       "tenure                                   0\n",
       "address                                  0\n",
       "postcode                                 0\n",
       "state                                    0\n",
       "country                                  0\n",
       "property_valuation                       0\n",
       "NaN                                      0\n",
       "NaN                                      0\n",
       "NaN                                      0\n",
       "NaN                                      0\n",
       "NaN                                      0\n",
       "Rank                                     0\n",
       "Value                                    0\n",
       "dtype: int64"
      ]
     },
     "execution_count": 40,
     "metadata": {},
     "output_type": "execute_result"
    }
   ],
   "source": [
    "# check non values\n",
    "NewCustomerList.isnull().sum()"
   ]
  },
  {
   "cell_type": "markdown",
   "id": "6861f82a",
   "metadata": {},
   "source": [
    "-- There 4 columns with null values "
   ]
  },
  {
   "cell_type": "code",
   "execution_count": 41,
   "id": "fb8a0e08",
   "metadata": {},
   "outputs": [
    {
     "data": {
      "text/plain": [
       "0"
      ]
     },
     "execution_count": 41,
     "metadata": {},
     "output_type": "execute_result"
    }
   ],
   "source": [
    "# check duplicates\n",
    "NewCustomerList.duplicated().sum()"
   ]
  },
  {
   "cell_type": "markdown",
   "id": "8fa588b5",
   "metadata": {},
   "source": [
    "-- no duplicates"
   ]
  },
  {
   "cell_type": "markdown",
   "id": "39e2b025",
   "metadata": {},
   "source": [
    "### Columns the should be deleted"
   ]
  },
  {
   "cell_type": "code",
   "execution_count": 42,
   "id": "6843bc25",
   "metadata": {},
   "outputs": [],
   "source": [
    "NewCustomerList = NewCustomerList.drop(NewCustomerList.columns[[16,17,18,19,20]],axis=1)"
   ]
  },
  {
   "cell_type": "markdown",
   "id": "1ecb1db4",
   "metadata": {},
   "source": [
    "### Data Types should be edited"
   ]
  },
  {
   "cell_type": "code",
   "execution_count": 43,
   "id": "0131966b",
   "metadata": {},
   "outputs": [],
   "source": [
    "# The columns (past_3_years_bike_related_purchases, property_valuation, Rank, Value) should be int\n",
    "NewCustomerList['past_3_years_bike_related_purchases'] = NewCustomerList['past_3_years_bike_related_purchases'].astype('int64')\n",
    "NewCustomerList['property_valuation'] = NewCustomerList['property_valuation'].astype('int64')\n",
    "NewCustomerList['Rank'] = NewCustomerList['Rank'].astype('int64')\n",
    "NewCustomerList['Value'] = NewCustomerList['Value'].astype('int64')\n",
    "\n",
    "# The column (DOB) should be date type\n",
    "NewCustomerList['DOB'] = pd.to_datetime(NewCustomerList['DOB'])"
   ]
  },
  {
   "cell_type": "code",
   "execution_count": 44,
   "id": "2a512a0b",
   "metadata": {},
   "outputs": [
    {
     "name": "stdout",
     "output_type": "stream",
     "text": [
      "<class 'pandas.core.frame.DataFrame'>\n",
      "RangeIndex: 1000 entries, 1 to 1000\n",
      "Data columns (total 18 columns):\n",
      " #   Column                               Non-Null Count  Dtype         \n",
      "---  ------                               --------------  -----         \n",
      " 0   first_name                           1000 non-null   object        \n",
      " 1   last_name                            971 non-null    object        \n",
      " 2   gender                               1000 non-null   object        \n",
      " 3   past_3_years_bike_related_purchases  1000 non-null   int64         \n",
      " 4   DOB                                  983 non-null    datetime64[ns]\n",
      " 5   job_title                            894 non-null    object        \n",
      " 6   job_industry_category                835 non-null    object        \n",
      " 7   wealth_segment                       1000 non-null   object        \n",
      " 8   deceased_indicator                   1000 non-null   object        \n",
      " 9   owns_car                             1000 non-null   object        \n",
      " 10  tenure                               1000 non-null   object        \n",
      " 11  address                              1000 non-null   object        \n",
      " 12  postcode                             1000 non-null   object        \n",
      " 13  state                                1000 non-null   object        \n",
      " 14  country                              1000 non-null   object        \n",
      " 15  property_valuation                   1000 non-null   int64         \n",
      " 16  Rank                                 1000 non-null   int64         \n",
      " 17  Value                                1000 non-null   int64         \n",
      "dtypes: datetime64[ns](1), int64(4), object(13)\n",
      "memory usage: 140.8+ KB\n"
     ]
    }
   ],
   "source": [
    "# check for updates\n",
    "NewCustomerList.info()"
   ]
  },
  {
   "cell_type": "markdown",
   "id": "9bbe3fcf",
   "metadata": {},
   "source": [
    "### Exploring Columns"
   ]
  },
  {
   "cell_type": "code",
   "execution_count": 45,
   "id": "f32c36d8",
   "metadata": {},
   "outputs": [
    {
     "data": {
      "text/plain": [
       "Index(['first_name', 'last_name', 'gender',\n",
       "       'past_3_years_bike_related_purchases', 'DOB', 'job_title',\n",
       "       'job_industry_category', 'wealth_segment', 'deceased_indicator',\n",
       "       'owns_car', 'tenure', 'address', 'postcode', 'state', 'country',\n",
       "       'property_valuation', 'Rank', 'Value'],\n",
       "      dtype='object', name=0)"
      ]
     },
     "execution_count": 45,
     "metadata": {},
     "output_type": "execute_result"
    }
   ],
   "source": [
    "NewCustomerList.columns"
   ]
  },
  {
   "cell_type": "code",
   "execution_count": 46,
   "id": "dfd804ec",
   "metadata": {},
   "outputs": [
    {
     "data": {
      "text/plain": [
       "Female    513\n",
       "Male      470\n",
       "U          17\n",
       "Name: gender, dtype: int64"
      ]
     },
     "execution_count": 46,
     "metadata": {},
     "output_type": "execute_result"
    }
   ],
   "source": [
    "NewCustomerList['gender'].value_counts()"
   ]
  },
  {
   "cell_type": "markdown",
   "id": "224b1678",
   "metadata": {},
   "source": [
    "-- There are 17 customers with Unspecified gedner"
   ]
  },
  {
   "cell_type": "code",
   "execution_count": 47,
   "id": "2e99d435",
   "metadata": {},
   "outputs": [
    {
     "data": {
      "text/plain": [
       "Female         513\n",
       "Male           470\n",
       "Unspecified     17\n",
       "Name: gender, dtype: int64"
      ]
     },
     "execution_count": 47,
     "metadata": {},
     "output_type": "execute_result"
    }
   ],
   "source": [
    "# replace 'U' with 'Unspecified'\n",
    "NewCustomerList['gender'] = NewCustomerList['gender'].replace('U', 'Unspecified')\n",
    "\n",
    "#check\n",
    "NewCustomerList['gender'].value_counts()"
   ]
  },
  {
   "cell_type": "code",
   "execution_count": 48,
   "id": "fbc5cadf",
   "metadata": {},
   "outputs": [
    {
     "data": {
      "text/plain": [
       "60    20\n",
       "59    18\n",
       "42    17\n",
       "70    17\n",
       "11    16\n",
       "      ..\n",
       "19     5\n",
       "9      5\n",
       "92     5\n",
       "85     4\n",
       "20     3\n",
       "Name: past_3_years_bike_related_purchases, Length: 100, dtype: int64"
      ]
     },
     "execution_count": 48,
     "metadata": {},
     "output_type": "execute_result"
    }
   ],
   "source": [
    "NewCustomerList['past_3_years_bike_related_purchases'].value_counts()"
   ]
  },
  {
   "cell_type": "code",
   "execution_count": 49,
   "id": "ae34bdae",
   "metadata": {},
   "outputs": [
    {
     "data": {
      "text/plain": [
       "1998-02-05    2\n",
       "1978-01-15    2\n",
       "1977-11-08    2\n",
       "1951-11-28    2\n",
       "1979-07-28    2\n",
       "             ..\n",
       "1945-08-08    1\n",
       "1943-08-27    1\n",
       "1999-10-24    1\n",
       "1976-01-24    1\n",
       "1955-10-02    1\n",
       "Name: DOB, Length: 958, dtype: int64"
      ]
     },
     "execution_count": 49,
     "metadata": {},
     "output_type": "execute_result"
    }
   ],
   "source": [
    "NewCustomerList['DOB'].value_counts()"
   ]
  },
  {
   "cell_type": "markdown",
   "id": "48663da2",
   "metadata": {},
   "source": [
    "-- There is a customer with a DOB in 1955 which may be out of scope"
   ]
  },
  {
   "cell_type": "code",
   "execution_count": 50,
   "id": "231850e4",
   "metadata": {},
   "outputs": [
    {
     "data": {
      "text/plain": [
       "NSW    506\n",
       "VIC    266\n",
       "QLD    228\n",
       "Name: state, dtype: int64"
      ]
     },
     "execution_count": 50,
     "metadata": {},
     "output_type": "execute_result"
    }
   ],
   "source": [
    "NewCustomerList['state'].value_counts()"
   ]
  },
  {
   "cell_type": "code",
   "execution_count": 51,
   "id": "9e1083de",
   "metadata": {},
   "outputs": [
    {
     "data": {
      "text/plain": [
       "No     507\n",
       "Yes    493\n",
       "Name: owns_car, dtype: int64"
      ]
     },
     "execution_count": 51,
     "metadata": {},
     "output_type": "execute_result"
    }
   ],
   "source": [
    "NewCustomerList['owns_car'].value_counts()"
   ]
  },
  {
   "cell_type": "code",
   "execution_count": null,
   "id": "153fdf19",
   "metadata": {},
   "outputs": [],
   "source": []
  }
 ],
 "metadata": {
  "kernelspec": {
   "display_name": "Python 3 (ipykernel)",
   "language": "python",
   "name": "python3"
  },
  "language_info": {
   "codemirror_mode": {
    "name": "ipython",
    "version": 3
   },
   "file_extension": ".py",
   "mimetype": "text/x-python",
   "name": "python",
   "nbconvert_exporter": "python",
   "pygments_lexer": "ipython3",
   "version": "3.10.9"
  }
 },
 "nbformat": 4,
 "nbformat_minor": 5
}
